{
  "cells": [
    {
      "cell_type": "markdown",
      "metadata": {
        "id": "view-in-github",
        "colab_type": "text"
      },
      "source": [
        "<a href=\"https://colab.research.google.com/github/marianelalopezsosa-a11y/PreEntrega2_FastPrompting_FluidezLectora/blob/main/ProyectoFinal_Prompts_Adaptaciones.ipynb\" target=\"_parent\"><img src=\"https://colab.research.google.com/assets/colab-badge.svg\" alt=\"Open In Colab\"/></a>"
      ]
    },
    {
      "cell_type": "markdown",
      "id": "c4417fe8",
      "metadata": {
        "id": "c4417fe8"
      },
      "source": [
        "# Generador de Adaptaciones Educativas con IA — Fast Prompting\n",
        "**Proyecto Final – IA: Generación de Prompts**  \n",
        "**Fecha:** 2025-09-18 20:18\n",
        "\n",
        "> Este cuaderno implementa una **POC (proof of concept)** que utiliza **técnicas de fast prompting** para crear materiales inclusivos (texto→texto e indicaciones texto→imagen). Se apoya en un set propio de prompts educativos accesibles."
      ]
    },
    {
      "cell_type": "markdown",
      "id": "dcf3c2f9",
      "metadata": {
        "id": "dcf3c2f9"
      },
      "source": [
        "## Resumen\n",
        "Este proyecto aborda un problema frecuente en escuelas: **la inversión de tiempo docente para adaptar materiales** a estudiantes con necesidades diversas (dislexia, TDAH, TEA, etc.).  \n",
        "La solución propuesta es un **kit de prompts** y una rutina de trabajo en Jupyter Notebook que permiten **generar rápidamente** resúmenes accesibles, mapas mentales y evaluaciones gamificadas.  \n",
        "Se muestran ejemplos funcionales con **texto→texto** (vía API opcional) y **texto→imagen** (vía herramienta externa gratuita), alineados con Neuroeducación y DUA."
      ]
    },
    {
      "cell_type": "markdown",
      "id": "36b62c8d",
      "metadata": {
        "id": "36b62c8d"
      },
      "source": [
        "## Introducción\n",
        "### Problema\n",
        "Docentes y equipos de apoyo **pierden tiempo** generando adaptaciones personalizadas y materiales de estudio accesibles. Esto dificulta la **inclusión** y **la continuidad** del aprendizaje.\n",
        "\n",
        "### Propuesta de solución\n",
        "Un **pipeline de fast prompting** con tres casos de uso:\n",
        "1) **Resumen Adaptado** (texto→texto)  \n",
        "2) **Mapa Mental** (texto→texto)  \n",
        "3) **Examen Interactivo Gamificado** (texto→texto)  \n",
        "+ **Texto→Imagen** opcional: generación de una **infografía o tapa** con herramientas gratuitas (p. ej., NightCafe).\n",
        "\n",
        "### Viabilidad\n",
        "- **Tiempo**: implementación en una tarde; prompts listos; copy/paste de imágenes.\n",
        "- **Recursos**: Notebook + (opcional) API de OpenAI para texto. Para imágenes se usa un generador gratuito (pegar prompt y descargar resultado).\n",
        "- **Justificación**: estandariza la adaptación y respeta principios de DUA, Neuroeducación y Accesibilidad."
      ]
    },
    {
      "cell_type": "markdown",
      "id": "596fd237",
      "metadata": {
        "id": "596fd237"
      },
      "source": [
        "## Objetivos\n",
        "- Reducir el tiempo de preparación docente con **prompts reutilizables**.\n",
        "- Mantener **calidad y accesibilidad** en las adaptaciones.\n",
        "- Mostrar una **POC mínima y funcional** que combine texto→texto e indicaciones texto→imagen."
      ]
    },
    {
      "cell_type": "markdown",
      "id": "dfd6111f",
      "metadata": {
        "id": "dfd6111f"
      },
      "source": [
        "## Metodología\n",
        "- **Fast Prompting**: prompts con *placeholders* (`{{...}}`) para completar datos de edad, nivel, fortalezas/desafíos, texto base, etc.\n",
        "- **Ciclo**: (1) Definir contexto → (2) Renderizar prompt → (3) Generar borrador con IA → (4) Revisar y ajustar → (5) Exportar a aula o papel.\n",
        "- **Evaluación**: revisión de claridad, cobertura de contenido, adecuación a perfil y tiempo de lectura."
      ]
    },
    {
      "cell_type": "markdown",
      "id": "13c8901e",
      "metadata": {
        "id": "13c8901e"
      },
      "source": [
        "## Herramientas y tecnologías\n",
        "- **Python + Jupyter** (POC reproducible).\n",
        "- **(Opcional) OpenAI API** para texto→texto. Si no hay API key, el cuaderno muestra el **prompt** para copiar/pegar en tu asistente favorito.\n",
        "- **NightCafe/Stable Diffusion** (gratuito) para **texto→imagen** (se pega el prompt, se descarga la imagen y se adjunta aquí).\n",
        "- **Markdown accesible**: tipografías de palo seco, listas, pictogramas/emojis y tamaños legibles."
      ]
    },
    {
      "cell_type": "code",
      "source": [
        "from google.colab import userdata"
      ],
      "metadata": {
        "id": "nKv5jJh5qbta"
      },
      "id": "nKv5jJh5qbta",
      "execution_count": 9,
      "outputs": []
    },
    {
      "cell_type": "code",
      "execution_count": 10,
      "id": "5b65ed7b",
      "metadata": {
        "id": "5b65ed7b"
      },
      "outputs": [],
      "source": [
        "# === Utilidades para la POC ===\n",
        "import os\n",
        "\n",
        "\n",
        "def render_prompt(template: str, **kwargs) -> str:\n",
        "    \"\"\"Rellena placeholders estilo {{campo}} usando format_map.\n",
        "\n",
        "    Uso: render_prompt(\"Hola {nombre}\", nombre=\"Mundo\")\n",
        "\n",
        "    Nota: convertimos {{x}} -> {x} para usar format_map de Python.\n",
        "    \"\"\"\n",
        "    # Pasar de {{campo}} a {campo}\n",
        "    tmp = template.replace(\"{{\", \"{\").replace(\"}}\", \"}\")\n",
        "    return tmp.format_map(kwargs)\n",
        "\n",
        "# Llamado opcional a OpenAI (si tienes OPENAI_API_KEY en variables de entorno).\n",
        "# Si no, el sistema imprime el prompt para que lo copies en tu chat de IA favorito.\n",
        "def generate_with_openai(system_prompt: str, user_prompt: str, model: str = \"gpt-4o-mini\") -> None:\n",
        "    # api_key = os.getenv(\"OPENAI_API_KEY\")\n",
        "    OPENAI_API_KEY = userdata.get('OPENAI_API_KEY')\n",
        "    api_key = OPENAI_API_KEY\n",
        "    if not api_key:\n",
        "        print(\"== MODO DEMO SIN API ==\\nCopia y pega el siguiente PROMPT en tu asistente de IA:\\n\\n\" + user_prompt)\n",
        "        return\n",
        "    try:\n",
        "        from openai import OpenAI\n",
        "        client = OpenAI(api_key=api_key)\n",
        "        resp = client.chat.completions.create(\n",
        "            model=model,\n",
        "            messages=[\n",
        "                {\"role\":\"system\",\"content\": system_prompt},\n",
        "                {\"role\":\"user\",\"content\": user_prompt}\n",
        "            ],\n",
        "            temperature=0.4\n",
        "        )\n",
        "        print(resp.choices[0].message.content)\n",
        "        return resp.choices[0].message.content\n",
        "    except Exception as e:\n",
        "        print(\"Error usando OpenAI:\", e)\n",
        "        print(\"Recurre al modo DEMO: copia el prompt arriba en tu herramienta de IA.\")"
      ]
    },
    {
      "cell_type": "markdown",
      "id": "54624633",
      "metadata": {
        "id": "54624633"
      },
      "source": [
        "## Caso 1 — Resumen Adaptado (Texto→Texto)\n",
        "**Objetivo:** crear un resumen accesible y bilingüe, con ideas principales y preguntas de reflexión."
      ]
    },
    {
      "cell_type": "code",
      "execution_count": 11,
      "id": "8044831b",
      "metadata": {
        "colab": {
          "base_uri": "https://localhost:8080/"
        },
        "id": "8044831b",
        "outputId": "befbdf20-c0de-4446-b51d-70e8956de5bc"
      },
      "outputs": [
        {
          "output_type": "stream",
          "name": "stdout",
          "text": [
            "# Resumen sobre la Célula\n",
            "\n",
            "- **Célula (cell)**: Es la unidad básica de los seres vivos.\n",
            "- **Partes de la célula**:\n",
            "  - **Membrana (membrane)**: Cubre la célula y la protege.\n",
            "  - **Citoplasma (cytoplasm)**: Líquido dentro de la célula donde ocurren muchas actividades.\n",
            "  - **Núcleo (nucleus)**: Parte que controla las funciones de la célula.\n",
            "  \n",
            "- **Funciones de la célula**:\n",
            "  - **Nutrición (nutrition)**: Obtiene y usa alimentos.\n",
            "  - **Relación (relation)**: Se comunica con otras células.\n",
            "  - **Reproducción (reproduction)**: Puede crear nuevas células.\n",
            "\n",
            "### Preguntas para Reflexionar:\n",
            "1. ¿Por qué crees que las células son importantes para los seres vivos?\n",
            "2. ¿Cómo crees que se comunican las células entre sí? \n",
            "\n",
            "✨ ¡Recuerda! Cada célula tiene un trabajo muy importante en los seres vivos.\n"
          ]
        }
      ],
      "source": [
        "prompt_resumen = \"\"\"**Instrucción al Modelo (Prompt):**\n",
        "\n",
        "Genera un **resumen adaptado y accesible** del siguiente texto, para\n",
        "estudiantes de {{edad}} años que cursan {{nivel_educativo}}. El\n",
        "perfil de la clase incluye:\n",
        "- Dificultades de Aprendizaje: {{dificultades_aprendizaje}}\n",
        "- Fortalezas: {{fortalezas_aprendizaje}}\n",
        "\n",
        "**Requisitos:**\n",
        "1. Usa lenguaje claro, oraciones cortas y vocabulario frecuente.\n",
        "2. Destaca ideas principales usando viñetas o listas.\n",
        "3. Incluye, cuando sea útil, palabras clave en español + su\n",
        "equivalente en inglés entre paréntesis (p. ej., “célula (cell)”).\n",
        "4. Utiliza tipografía de palo seco y tamaño ≥ 14 pt en la presentación final.\n",
        "5. Inserta al final 1 o 2 preguntas reflexivas (pensamiento crítico).\n",
        "6. (Opcional) Emplea emojis o símbolos para resaltar conceptos clave.\n",
        "7. Si existe alguna condición específica (dislexia, TDAH, TEA, etc.),\n",
        "   aplicar recomendaciones obligatorias (letra clara, listas, ejemplos, etc.).\n",
        "\n",
        "**Texto a resumir:**\n",
        "{{texto}}\n",
        "\n",
        "**Salida esperada:**\n",
        "Un resumen accesible (Markdown) con:\n",
        "- Título breve\n",
        "- Puntos principales en viñetas\n",
        "- Vocabulario bilingüe (cuando sea adecuado)\n",
        "- 1-2 preguntas de reflexión crítica\n",
        "- Cumplir adaptaciones según perfil (edad, dificultades, fortalezas)\n",
        "\"\"\"\n",
        "\n",
        "# === Completar datos del caso de prueba ===\n",
        "contexto = {\n",
        "    \"edad\": 12,\n",
        "    \"nivel_educativo\": \"6° grado (bilingüe)\",\n",
        "    \"dificultades_aprendizaje\": \"dislexia leve; atención fluctuante\",\n",
        "    \"fortalezas_aprendizaje\": \"comprensión global; memoria verbal inmediata\",\n",
        "    \"texto\": \"\"\"La célula es la unidad básica de los seres vivos. Está formada por membrana,\n",
        "citoplasma y núcleo. Las células realizan funciones como nutrición, relación y reproducción...\"\"\"\n",
        "}\n",
        "\n",
        "user_prompt = render_prompt(prompt_resumen, **contexto)\n",
        "system_prompt = \"Eres un asistente pedagógico que adapta textos a A2 en progreso con criterios de accesibilidad.\"\n",
        "\n",
        "# Ejecuta con OpenAI si tienes API; si no, imprime el prompt para copiar/pegar.\n",
        "generate_with_openai(system_prompt, user_prompt)"
      ]
    },
    {
      "cell_type": "markdown",
      "id": "e4411f83",
      "metadata": {
        "id": "e4411f83"
      },
      "source": [
        "## Caso 2 — Mapa Mental (Texto→Texto)\n",
        "**Objetivo:** transformar un texto en un mapa mental claro y visualmente guiado."
      ]
    },
    {
      "cell_type": "code",
      "execution_count": 12,
      "id": "9f633145",
      "metadata": {
        "colab": {
          "base_uri": "https://localhost:8080/"
        },
        "id": "9f633145",
        "outputId": "0afc53f5-24bb-425b-ef50-97f2d4a656be"
      },
      "outputs": [
        {
          "output_type": "stream",
          "name": "stdout",
          "text": [
            "# MAPA MENTAL: ECOSISTEMAS 🌍\n",
            "\n",
            "### Introducción para docentes:\n",
            "El mapa mental ayuda a los estudiantes a organizar ideas y comprender mejor los conceptos. Es visual y accesible, ideal para estudiantes con dislexia leve.\n",
            "\n",
            "---\n",
            "\n",
            "### ¿QUÉ SON LOS ECOSISTEMAS? 📚\n",
            "- Sistemas formados por seres vivos y su medio.\n",
            "- Incluyen:\n",
            "  - **BIOTOPO**: Lugar físico donde viven los organismos.\n",
            "  - **BIOCENOSIS**: Conjunto de seres vivos que interactúan.\n",
            "\n",
            "### RELACIONES EN LOS ECOSISTEMAS 🌟\n",
            "- **ALIMENTACIÓN**: Cómo se obtienen los nutrientes.\n",
            "- **COMPETENCIA**: Lucha por recursos (comida, espacio).\n",
            "- **COOPERACIÓN**: Ayuda entre organismos para sobrevivir.\n",
            "\n",
            "### IMPORTANCIA DE LOS ECOSISTEMAS 🔬\n",
            "- Mantienen el equilibrio de la naturaleza.\n",
            "- Proveen recursos (agua, aire, alimentos).\n",
            "- Soportan la vida en el planeta.\n",
            "\n",
            "### PREGUNTAS PARA PENSAMIENTO CRÍTICO ❓\n",
            "- ¿Por qué son importantes los ecosistemas?\n",
            "- ¿Para qué necesitamos cuidar el medio ambiente?\n",
            "\n",
            "---\n",
            "\n",
            "**Estilo:**\n",
            "- **Tipografía**: Palo seco\n",
            "- **Tamaño de letra**: ≥14\n",
            "- **Colores suaves**: Utilizar tonos pasteles para fondo y texto.\n"
          ]
        }
      ],
      "source": [
        "prompt_mapa = \"\"\"**Instrucción al Modelo (Prompt):**\n",
        "\n",
        "Adapta el siguiente texto a un **Mapa Mental** para un estudiante de\n",
        "{{edad}} años ({{nivel_educativo}}), quien presenta:\n",
        "- Dificultades: {{dificultades_aprendizaje}}\n",
        "- Fortalezas: {{fortalezas_aprendizaje}}\n",
        "- Tipo de Letra: {{case}} (mayúsculas / mayúsculas y minúsculas)\n",
        "- Texto a adaptar: {{texto}}\n",
        "\n",
        "**Indicaciones para el Mapa Mental:**\n",
        "1. Introducción para docentes: utilidad del mapa mental.\n",
        "2. Secciones en Markdown (###) por idea principal + viñetas de subtemas.\n",
        "3. Añade emojis para cada rama (📚, 🌟, 🔬, etc.).\n",
        "4. Colores suaves y tipografía de palo seco (indicado en salida).\n",
        "5. Oraciones cortas y vocabulario claro.\n",
        "6. Preguntas para pensamiento crítico (¿por qué?, ¿para qué?).\n",
        "\n",
        "**Salida esperada:**\n",
        "Un esquema de mapa mental en Markdown, con título, ramas, sub-ideas, emojis\n",
        "e indicaciones de estilo (tamaño de letra ≥14, colores suaves).\n",
        "\"\"\"\n",
        "\n",
        "contexto_mapa = {\n",
        "    \"edad\": 12,\n",
        "    \"nivel_educativo\": \"6° grado (bilingüe)\",\n",
        "    \"dificultades_aprendizaje\": \"dislexia leve\",\n",
        "    \"fortalezas_aprendizaje\": \"comprensión global\",\n",
        "    \"case\": \"MAYÚSCULAS\",\n",
        "    \"texto\": \"\"\"Ecosistemas: son sistemas formados por seres vivos y el medio en que viven.\n",
        "Incluyen biotopo y biocenosis, con relaciones de alimentación, competencia y cooperación...\"\"\"\n",
        "}\n",
        "\n",
        "user_prompt_mapa = render_prompt(prompt_mapa, **contexto_mapa)\n",
        "system_prompt_mapa = \"Eres un asistente pedagógico que genera mapas mentales accesibles en Markdown.\"\n",
        "\n",
        "generate_with_openai(system_prompt_mapa, user_prompt_mapa)"
      ]
    },
    {
      "cell_type": "markdown",
      "id": "4e82f454",
      "metadata": {
        "id": "4e82f454"
      },
      "source": [
        "## Caso 3 — Examen Interactivo Gamificado (Texto→Texto)\n",
        "**Objetivo:** evaluar con formatos variados, retroalimentación inmediata y tono motivador."
      ]
    },
    {
      "cell_type": "code",
      "execution_count": 13,
      "id": "5a1f3935",
      "metadata": {
        "colab": {
          "base_uri": "https://localhost:8080/"
        },
        "id": "5a1f3935",
        "outputId": "38fdacc9-d9a3-48e3-e832-254df4f779b7"
      },
      "outputs": [
        {
          "output_type": "stream",
          "name": "stdout",
          "text": [
            "# EXAMEN INTERACTIVO: CICLO DEL AGUA 🌊☀️\n",
            "\n",
            "¡Hola! Bienvenido a tu examen sobre el Ciclo del Agua. Este examen está diseñado para que aprendas mientras te diviertes. Recuerda que puedes tomarte tu tiempo y leer cada pregunta con calma. ¡Buena suerte! 🍀\n",
            "\n",
            "---\n",
            "\n",
            "## INSTRUCCIONES:\n",
            "1. Lee cada pregunta cuidadosamente.\n",
            "2. Responde seleccionando la opción correcta o completando el espacio en blanco.\n",
            "3. Al final, tendrás una sección oral donde podrás demostrar lo que aprendiste.\n",
            "4. Recuerda que puedes usar tus habilidades de memoria verbal para ayudarte.\n",
            "\n",
            "---\n",
            "\n",
            "### 1. ¿Cuál de las siguientes opciones describe el proceso de **EVAPORACIÓN**?  \n",
            "- A) El agua se convierte en vapor.  \n",
            "- B) El vapor de agua se convierte en nubes.  \n",
            "- C) El agua cae de las nubes.  \n",
            "- D) El agua se filtra en el suelo.  \n",
            "\n",
            "**Retroalimentación:**  \n",
            "- Si elegiste A: ¡Correcto! La EVAPORACIÓN es cuando el agua se convierte en vapor. ☀️  \n",
            "- Si elegiste B, C o D: Intenta recordar qué sucede cuando el calor del sol calienta el agua. 🌞\n",
            "\n",
            "---\n",
            "\n",
            "### 2. Completa la frase:  \n",
            "La **CONDENSACIÓN** ocurre cuando el vapor de agua se enfría y se convierte en __________.  \n",
            "\n",
            "**Retroalimentación:**  \n",
            "- Si escribiste \"agua\" o \"gotas\": ¡Bien hecho! La CONDENSACIÓN forma gotas de agua. 💧  \n",
            "- Si no lo sabías: Piensa en cómo se forma el rocío en la mañana. 🌅\n",
            "\n",
            "---\n",
            "\n",
            "### 3. Verdadero o Falso:  \n",
            "La **PRECIPITACIÓN** es el proceso en el que el agua se infiltra en el suelo.  \n",
            "- A) Verdadero  \n",
            "- B) Falso  \n",
            "\n",
            "**Retroalimentación:**  \n",
            "- Si elegiste B: ¡Correcto! La PRECIPITACIÓN es cuando el agua cae de las nubes, como lluvia o nieve. ❄️  \n",
            "- Si elegiste A: Recuerda que la infiltración es un proceso diferente. 🌧️\n",
            "\n",
            "---\n",
            "\n",
            "### 4. ¿Qué papel juega la **ENERGÍA SOLAR** en el ciclo del agua?  \n",
            "- A) No tiene ningún papel.  \n",
            "- B) Calienta el agua y permite que se evapore.  \n",
            "- C) Hace que el agua se congele.  \n",
            "- D) Solo afecta a la tierra.  \n",
            "\n",
            "**Retroalimentación:**  \n",
            "- Si elegiste B: ¡Excelente! La ENERGÍA SOLAR es fundamental para el ciclo del agua. ☀️  \n",
            "- Si elegiste A, C o D: Piensa en cómo el sol calienta el agua en ríos y océanos. 🌊\n",
            "\n",
            "---\n",
            "\n",
            "### 5. Misión:  \n",
            "Imagina que eres una gota de agua en el ciclo del agua. Describe brevemente (3-4 oraciones) qué procesos pasas desde que te evaporas hasta que caes como lluvia.  \n",
            "\n",
            "**Retroalimentación:**  \n",
            "- Aquí no hay respuestas incorrectas. Lo importante es que uses tu imaginación y lo que aprendiste. 📝\n",
            "\n",
            "---\n",
            "\n",
            "## SECCIÓN ORAL:  \n",
            "Ahora, quiero que me cuentes sobre el ciclo del agua. Puedes explicar los cuatro procesos (evaporación, condensación, precipitación e infiltración) y cómo la energía solar los impulsa. Tómate tu tiempo y recuerda usar tus palabras. ¡Estoy listo para escucharte! 🎤\n",
            "\n",
            "---\n",
            "\n",
            "## INSTRUCCIONES PARA EL DOCENTE:\n",
            "1. Asegúrate de que el examen sea accesible para el estudiante, utilizando una tipografía clara y un tamaño de letra adecuado (≥14).\n",
            "2. Proporciona un ambiente tranquilo para la evaluación oral, permitiendo que el estudiante se exprese sin presiones.\n",
            "3. Ofrece apoyo adicional si es necesario, especialmente en la sección de respuesta breve y oral.\n",
            "4. Fomenta el uso de la memoria verbal del estudiante para ayudarlo a recordar los conceptos.\n",
            "5. Recuerda dar retroalimentación positiva y constructiva en cada respuesta.\n",
            "\n",
            "¡Gracias por tu atención y apoyo! 🌟\n"
          ]
        }
      ],
      "source": [
        "prompt_examen = \"\"\"**Instrucción al Modelo (Prompt):**\n",
        "\n",
        "Genera un **Examen Interactivo** basado en el siguiente contenido:\n",
        "{{texto}}. Está dirigido a un estudiante de {{edad}} años ({{nivel_educativo}}) con:\n",
        "- Dificultades en el Aprendizaje: {{dificultades_aprendizaje}}\n",
        "- Fortalezas: {{fortalezas_aprendizaje}}\n",
        "- Tipografía requerida: {{case}}\n",
        "- Sección de Evaluación Oral: {{oral}}\n",
        "\n",
        "**Requisitos:**\n",
        "1. Preguntas en varios formatos (MCQ, V/F, completar, respuesta breve).\n",
        "2. Narrativa o misiones + emojis para gamificar.\n",
        "3. Retroalimentación inmediata por ítem.\n",
        "4. Indicaciones para evaluación oral (si aplica).\n",
        "5. Respeta accesibilidad (letra ≥14, consignas claras).\n",
        "6. Cierra con “Instrucciones para el Docente”.\n",
        "\n",
        "**Salida esperada:**\n",
        "Examen en Markdown con consigna inicial, preguntas variadas, retroalimentación,\n",
        "sección oral (si procede) y guía rápida para docentes.\n",
        "\"\"\"\n",
        "\n",
        "contexto_examen = {\n",
        "    \"edad\": 12,\n",
        "    \"nivel_educativo\": \"6° grado (bilingüe)\",\n",
        "    \"dificultades_aprendizaje\": \"dislexia leve; atención sostenida variable\",\n",
        "    \"fortalezas_aprendizaje\": \"memoria verbal inmediata\",\n",
        "    \"case\": \"MAYÚSCULAS\",\n",
        "    \"oral\": \"Sí\",\n",
        "    \"texto\": \"\"\"Ciclo del Agua: evaporación, condensación, precipitación e infiltración.\n",
        "La energía solar impulsa el ciclo y permite la circulación del agua en la Tierra...\"\"\"\n",
        "}\n",
        "\n",
        "user_prompt_examen = render_prompt(prompt_examen, **contexto_examen)\n",
        "system_prompt_examen = \"Eres un asistente pedagógico que diseña evaluaciones accesibles y gamificadas.\"\n",
        "\n",
        "generate_with_openai(system_prompt_examen, user_prompt_examen)"
      ]
    },
    {
      "cell_type": "markdown",
      "id": "c8121c5a",
      "metadata": {
        "id": "c8121c5a"
      },
      "source": [
        "## Texto→Imagen — Infografía/Tapa\n",
        "Usando un generador gratuito (**NightCafe**).\n",
        "\n",
        "> **Prompt:**  \n",
        "> *\"Educational infographic, clean and accessible design, soft colors, sans-serif typography, icons for sections (title, key facts, examples, conclusion), high readability, flat style, minimal, suitable for dyslexia-friendly layouts.\"*\n",
        "\n",
        "![infografia.png.jpg](data:image/jpeg;base64,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)"
      ]
    },
    {
      "cell_type": "markdown",
      "id": "d3611a9c",
      "metadata": {
        "id": "d3611a9c"
      },
      "source": [
        "# **Resultados**\n",
        "## **Resumen Adaptado**:\n",
        "### Resumen sobre la Célula\n",
        "\n",
        "- **Célula (cell)**: Es la unidad básica de los seres vivos.\n",
        "- **Partes de la célula**:\n",
        "  - **Membrana (membrane)**: Cubre la célula y la protege.\n",
        "  - **Citoplasma (cytoplasm)**: Líquido dentro de la célula donde ocurren muchas actividades.\n",
        "  - **Núcleo (nucleus)**: Parte que controla las funciones de la célula.\n",
        "  \n",
        "- **Funciones de la célula**:\n",
        "  - **Nutrición (nutrition)**: Obtiene y usa alimentos.\n",
        "  - **Relación (relation)**: Se comunica con otras células.\n",
        "  - **Reproducción (reproduction)**: Puede crear nuevas células.\n",
        "\n",
        "### Preguntas para Reflexionar:\n",
        "1. ¿Por qué crees que las células son importantes para los seres vivos?\n",
        "2. ¿Cómo crees que se comunican las células entre sí?\n",
        "\n",
        "✨ ¡Recuerda! Cada célula tiene un trabajo muy importante en los seres vivos.\n",
        "\n",
        "## **Mapa Mental**:\n",
        "\n",
        "# MAPA MENTAL: ECOSISTEMAS 🌍\n",
        "\n",
        "### Introducción para docentes:\n",
        "El mapa mental ayuda a los estudiantes a organizar ideas y comprender mejor los conceptos. Es visual y accesible, ideal para estudiantes con dislexia leve.\n",
        "\n",
        "---\n",
        "\n",
        "### ¿QUÉ SON LOS ECOSISTEMAS? 📚\n",
        "- Sistemas formados por seres vivos y su medio.\n",
        "- Incluyen:\n",
        "  - **BIOTOPO**: Lugar físico donde viven los organismos.\n",
        "  - **BIOCENOSIS**: Conjunto de seres vivos que interactúan.\n",
        "\n",
        "### RELACIONES EN LOS ECOSISTEMAS 🌟\n",
        "- **ALIMENTACIÓN**: Cómo se obtienen los nutrientes.\n",
        "- **COMPETENCIA**: Lucha por recursos (comida, espacio).\n",
        "- **COOPERACIÓN**: Ayuda entre organismos para sobrevivir.\n",
        "\n",
        "### IMPORTANCIA DE LOS ECOSISTEMAS 🔬\n",
        "- Mantienen el equilibrio de la naturaleza.\n",
        "- Proveen recursos (agua, aire, alimentos).\n",
        "- Soportan la vida en el planeta.\n",
        "\n",
        "### PREGUNTAS PARA PENSAMIENTO CRÍTICO ❓\n",
        "- ¿Por qué son importantes los ecosistemas?\n",
        "- ¿Para qué necesitamos cuidar el medio ambiente?\n",
        "\n",
        "---\n",
        "\n",
        "**Estilo:**\n",
        "- **Tipografía**: Palo seco\n",
        "- **Tamaño de letra**: ≥14\n",
        "- **Colores suaves**: Utilizar tonos pasteles para fondo y texto.\n",
        "\n",
        "## **Examen Interactivo**:\n",
        "\n",
        "# EXAMEN INTERACTIVO: CICLO DEL AGUA 🌊☀️\n",
        "\n",
        "¡Hola! Bienvenido a tu examen sobre el Ciclo del Agua. Este examen está diseñado para que aprendas mientras te diviertes. Recuerda que puedes tomarte tu tiempo y leer cada pregunta con calma. ¡Buena suerte! 🍀\n",
        "\n",
        "---\n",
        "\n",
        "## INSTRUCCIONES:\n",
        "1. Lee cada pregunta cuidadosamente.\n",
        "2. Responde seleccionando la opción correcta o completando el espacio en blanco.\n",
        "3. Al final, tendrás una sección oral donde podrás demostrar lo que aprendiste.\n",
        "4. Recuerda que puedes usar tus habilidades de memoria verbal para ayudarte.\n",
        "\n",
        "---\n",
        "\n",
        "### 1. ¿Cuál de las siguientes opciones describe el proceso de **EVAPORACIÓN**?  \n",
        "- A) El agua se convierte en vapor.  \n",
        "- B) El vapor de agua se convierte en nubes.  \n",
        "- C) El agua cae de las nubes.  \n",
        "- D) El agua se filtra en el suelo.  \n",
        "\n",
        "**Retroalimentación:**  \n",
        "- Si elegiste A: ¡Correcto! La EVAPORACIÓN es cuando el agua se convierte en vapor. ☀️  \n",
        "- Si elegiste B, C o D: Intenta recordar qué sucede cuando el calor del sol calienta el agua. 🌞\n",
        "\n",
        "---\n",
        "\n",
        "### 2. Completa la frase:  \n",
        "La **CONDENSACIÓN** ocurre cuando el vapor de agua se enfría y se convierte en __________.  \n",
        "\n",
        "**Retroalimentación:**  \n",
        "- Si escribiste \"agua\" o \"gotas\": ¡Bien hecho! La CONDENSACIÓN forma gotas de agua. 💧  \n",
        "- Si no lo sabías: Piensa en cómo se forma el rocío en la mañana. 🌅\n",
        "\n",
        "---\n",
        "\n",
        "### 3. Verdadero o Falso:  \n",
        "La **PRECIPITACIÓN** es el proceso en el que el agua se infiltra en el suelo.  \n",
        "- A) Verdadero  \n",
        "- B) Falso  \n",
        "\n",
        "**Retroalimentación:**  \n",
        "- Si elegiste B: ¡Correcto! La PRECIPITACIÓN es cuando el agua cae de las nubes, como lluvia o nieve. ❄️  \n",
        "- Si elegiste A: Recuerda que la infiltración es un proceso diferente. 🌧️\n",
        "\n",
        "---\n",
        "\n",
        "### 4. ¿Qué papel juega la **ENERGÍA SOLAR** en el ciclo del agua?  \n",
        "- A) No tiene ningún papel.  \n",
        "- B) Calienta el agua y permite que se evapore.  \n",
        "- C) Hace que el agua se congele.  \n",
        "- D) Solo afecta a la tierra.  \n",
        "\n",
        "**Retroalimentación:**  \n",
        "- Si elegiste B: ¡Excelente! La ENERGÍA SOLAR es fundamental para el ciclo del agua. ☀️  \n",
        "- Si elegiste A, C o D: Piensa en cómo el sol calienta el agua en ríos y océanos. 🌊\n",
        "\n",
        "---\n",
        "\n",
        "### 5. Misión:  \n",
        "Imagina que eres una gota de agua en el ciclo del agua. Describe brevemente (3-4 oraciones) qué procesos pasas desde que te evaporas hasta que caes como lluvia.  \n",
        "\n",
        "**Retroalimentación:**  \n",
        "- Aquí no hay respuestas incorrectas. Lo importante es que uses tu imaginación y lo que aprendiste. 📝\n",
        "\n",
        "---\n",
        "\n",
        "## SECCIÓN ORAL:  \n",
        "Ahora, quiero que me cuentes sobre el ciclo del agua. Puedes explicar los cuatro procesos (evaporación, condensación, precipitación e infiltración) y cómo la energía solar los impulsa. Tómate tu tiempo y recuerda usar tus palabras. ¡Estoy listo para escucharte! 🎤\n",
        "\n",
        "---\n",
        "\n",
        "## INSTRUCCIONES PARA EL DOCENTE:\n",
        "1. Asegúrate de que el examen sea accesible para el estudiante, utilizando una tipografía clara y un tamaño de letra adecuado (≥14).\n",
        "2. Proporciona un ambiente tranquilo para la evaluación oral, permitiendo que el estudiante se exprese sin presiones.\n",
        "3. Ofrece apoyo adicional si es necesario, especialmente en la sección de respuesta breve y oral.\n",
        "4. Fomenta el uso de la memoria verbal del estudiante para ayudarlo a recordar los conceptos.\n",
        "5. Recuerda dar retroalimentación positiva y constructiva en cada respuesta.\n",
        "\n",
        "¡Gracias por tu atención y apoyo! 🌟\n"
      ]
    },
    {
      "cell_type": "markdown",
      "id": "62e48119",
      "metadata": {
        "id": "62e48119"
      },
      "source": [
        "## Conclusiones\n",
        "- Los **prompts reutilizables** permiten acelerar la preparación de materiales inclusivos.\n",
        "- La **revisión docente** es esencial para asegurar pertinencia y precisión.\n",
        "- El enfoque es **escalable**: se pueden añadir más prompts (guías de estudio, role-plays, etc.)."
      ]
    },
    {
      "cell_type": "markdown",
      "id": "e8935ec6",
      "metadata": {
        "id": "e8935ec6"
      },
      "source": [
        "## Referencias\n",
        "- Conjunto de **prompts educativos accesibles** (documento del autor/a).\n",
        "- Lineamientos de **Neuroeducación** y **DUA** aplicados a adaptaciones.\n",
        "- Herramientas sugeridas por la cátedra (NightCafe u otras)."
      ]
    }
  ],
  "metadata": {
    "colab": {
      "provenance": [],
      "include_colab_link": true
    },
    "language_info": {
      "name": "python"
    },
    "kernelspec": {
      "name": "python3",
      "display_name": "Python 3"
    }
  },
  "nbformat": 4,
  "nbformat_minor": 5
}