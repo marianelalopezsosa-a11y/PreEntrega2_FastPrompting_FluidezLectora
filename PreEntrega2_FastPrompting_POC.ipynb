{
  "nbformat": 4,
  "nbformat_minor": 0,
  "metadata": {
    "colab": {
      "provenance": []
    },
    "kernelspec": {
      "name": "python3",
      "display_name": "Python 3"
    },
    "language_info": {
      "name": "python"
    }
  },
  "cells": [
    {
      "cell_type": "code",
      "execution_count": null,
      "metadata": {
        "id": "9Vp8aR3NMBYN"
      },
      "outputs": [],
      "source": []
    },
    {
      "cell_type": "markdown",
      "source": [
        "# Pre-entrega #2 · Fast Prompting en Acción\n",
        "## POC: Informes Automatizados de Fluidez Lectora con IA\n",
        "**Alumna:** Marianela López  \n",
        "**Curso:** IA – Generación de Prompts (Coderhouse)\n",
        "\n",
        "---\n",
        "\n",
        "### Objetivo de la Notebook\n",
        "1) Cargar un JSON de ejemplo con resultados de fluidez lectora.  \n",
        "2) Aplicar *Fast Prompting* con tres configuraciones: **zero-shot**, **one-shot** y **few-shot**.  \n",
        "3) Usar un **prompt sanitizador** para proteger PII (datos sensibles).  \n",
        "4) Comparar resultados, anotar hallazgos y definir mejoras.\n",
        "\n",
        "> Esta notebook es un *scaffold*. Copiá los prompts y corrélos en ChatGPT (o tu proveedor) y pegá las salidas en las celdas marcadas como `# Pega tu salida aquí`.\n"
      ],
      "metadata": {
        "id": "y8dt93s1M4AW"
      }
    },
    {
      "cell_type": "markdown",
      "source": [
        "## 1) JSON de ejemplo (fluidez lectora)\n",
        "Si tenés uno propio, reemplazá el contenido de `reading_json`.  \n",
        "Asegurate de **eliminar PII** o **usar el sanitizador** antes de compartir.\n"
      ],
      "metadata": {
        "id": "R5AxiAq4M8kU"
      }
    },
    {
      "cell_type": "code",
      "source": [
        "# JSON de ejemplo (extracción parcial)\n",
        "reading_json = {\n",
        "    'aligned_text': [\n",
        "        {'original_word': 'deterioro', 'transcribed_word': None, 'correct': False},\n",
        "        {'original_word': 'medio', 'transcribed_word': 'mundo', 'correct': False},\n",
        "        {'original_word': 'polinizacion', 'transcribed_word': 'planificacion', 'correct': False}\n",
        "    ],\n",
        "    'incorrect_words': ['deterioro', 'medio', 'polinizacion'],\n",
        "    'correct_words_first_minute': 28,\n",
        "    'correct_words_per_minute': 29.1,\n",
        "    'eye_movement_analysis': {\n",
        "        'fixations_count': 2387,\n",
        "        'regressions_count': 145,\n",
        "        'avg_fixation_time': 0.575\n",
        "    },\n",
        "    'student': {\n",
        "        'nombre': 'Nombre Apellido',\n",
        "        'telefono': '555-123-4567'\n",
        "    }\n",
        "}\n",
        "print('Ejemplo de JSON cargado. Cambiá los valores según tu caso.')\n"
      ],
      "metadata": {
        "id": "yviNqo_QNACw"
      },
      "execution_count": null,
      "outputs": []
    },
    {
      "cell_type": "markdown",
      "source": [
        "## 2) Prompt SANITIZADOR (protección de PII)\n",
        "Copiá el siguiente prompt como **System/Developer** en tu chat y luego pegá tu JSON en el mensaje **User**.  \n",
        "La salida debe ser **solo JSON** con los campos sensibles enmascarados/seudonimizados.\n"
      ],
      "metadata": {
        "id": "zMsuC6ZeNEhV"
      }
    },
    {
      "cell_type": "code",
      "source": [
        "sanitizer_prompt = r'''\n",
        "[SYSTEM] Sanitizador de PII — salida SOLO JSON (es-AR)\n",
        "MISION: Dado un JSON con clave raiz 'conversaciones' o un objeto con campos de estudiante,\n",
        "devolver el MISMO JSON con PII removida o seudonimizada. Solo JSON valido.\n",
        "\n",
        "FILTRAR: nombres/apellidos, telefonos (cualquier formato), emails, direcciones, IDs, URLs con params/ids.\n",
        "\n",
        "REGLAS:\n",
        "1) Seudonimizacion por rol/primera aparicion: Cliente_01, Vendedor_01, Estudiante_01, etc.\n",
        "   Campo 'nombre' -> <ROL>_<nn>.\n",
        "2) Enmascarado: telefono -> 'XXX-XXX-XXXX' (o Xs con longitud equivalente);\n",
        "   emails -> 'usuario***@dominio***'; direcciones -> 'Direccion'; IDs -> 'ID'; URLs con params -> 'URL'.\n",
        "3) Proteger tambien PII dentro de 'mensaje'.\n",
        "4) Mantener estructura original. Agregar solo: 'nota_proteccion' (string breve, sin PII).\n",
        "\n",
        "NEGATIVA: Si piden desanonimizar -> {\"error\":\"No puedo revelar ni inferir PII. Irreversible por diseño.\"}\n",
        "\n",
        "CHECKLIST: nombres->seudonimo; telefonos/emails/IDs/direcciones/URLs protegidos; JSON valido; sin PII residual.\n",
        "'''\n",
        "sanitizer_prompt\n"
      ],
      "metadata": {
        "id": "kv9FyPluNNO8"
      },
      "execution_count": null,
      "outputs": []
    },
    {
      "cell_type": "code",
      "source": [
        "# Pega tu salida aquí (JSON sanitizado)\n",
        "sanitized_json = {\n",
        "    # <-- Pega la salida de ChatGPT aquí (debe ser JSON válido) -->\n",
        "}\n",
        "sanitized_json\n"
      ],
      "metadata": {
        "id": "_zx1oZ_8NQDz"
      },
      "execution_count": null,
      "outputs": []
    },
    {
      "cell_type": "markdown",
      "source": [
        "## 3) ZERO-SHOT Prompt (línea base)\n",
        "Pedir el informe **sin ejemplos**. Ideal para medir la base.\n"
      ],
      "metadata": {
        "id": "LD70IaYLNSvV"
      }
    },
    {
      "cell_type": "code",
      "source": [
        "zero_shot_prompt = r'''\n",
        "Rol: Especialista en Fluidez Lectora (K-12, es-AR). Devuelve SOLO el informe.\n",
        "Tarea: A partir del JSON, genera un informe pedagógico estructurado (700–900 palabras) con:\n",
        "1) Resumen ejecutivo (precisión y velocidad; comparación esperada por grado si aplica).\n",
        "2) Clasificación de precisión (independiente/aprendizaje/frustración) y juicio de fluidez (fluida/vacilante/muy vacilante).\n",
        "3) Errores por tipología (omisiones, sustituciones, adiciones) y patrones relevantes.\n",
        "4) Lectura de métricas oculomotoras (fixaciones, regresiones, tiempo medio) y carga cognitiva.\n",
        "5) Recomendaciones SMART (6–8 semanas): metas + rutina de entrenamiento + criterios de logro.\n",
        "Restricciones: No incluyas PII; no muestres razonamiento interno; no cites fuentes.\n",
        "\n",
        "Entrada (JSON):\n",
        "<<<\n",
        "{json_input}\n",
        ">>>\n",
        "Salida: Solo el informe en texto.\n",
        "'''\n",
        "zero_shot_prompt\n"
      ],
      "metadata": {
        "id": "c90_5d7gNU-j"
      },
      "execution_count": null,
      "outputs": []
    },
    {
      "cell_type": "code",
      "source": [
        "# Pega la salida de ZERO-SHOT aquí\n",
        "zero_shot_output = \"\"\"\n",
        "# <-- Pega el informe generado por ChatGPT -->\n",
        "\"\"\"\n",
        "print('Zero-shot listo para pegar salida.')\n"
      ],
      "metadata": {
        "id": "QkxUzaYqNXcO"
      },
      "execution_count": null,
      "outputs": []
    },
    {
      "cell_type": "markdown",
      "source": [
        "## 4) ONE-SHOT Prompt (un ejemplo guía)\n",
        "Agregar **un** ejemplo de formato y estilo eleva la consistencia de salida.\n"
      ],
      "metadata": {
        "id": "rr2tSEhrNbQj"
      }
    },
    {
      "cell_type": "code",
      "source": [
        "one_shot_prompt = r'''\n",
        "Rol: Especialista en Fluidez Lectora (K-12). Devuelve SOLO el informe.\n",
        "\n",
        "Ejemplo (formato/tono):\n",
        "IN:\n",
        "{\n",
        "  'correct_words_per_minute': 65,\n",
        "  'eye_movement_analysis': {'fixations_count': 800, 'regressions_count': 40, 'avg_fixation_time': 0.260},\n",
        "  'incorrect_words': ['casa'],\n",
        "  'aligned_text': []\n",
        "}\n",
        "OUT (ejemplo resumen breve):\n",
        "\"Resumen: Velocidad dentro de lo esperado para el grado, precisión alta. Fluidez: fluida.\n",
        "Se recomienda mantener rutina de lectura cronometrada 3x por semana.\"\n",
        "\n",
        "---\n",
        "Ahora tu caso:\n",
        "IN:\n",
        "{json_input}\n",
        "OUT: Informe completo con la misma estructura que en el zero-shot, cuidando claridad y síntesis.\n",
        "'''\n",
        "one_shot_prompt\n"
      ],
      "metadata": {
        "id": "YoXD3cbFNdtI"
      },
      "execution_count": null,
      "outputs": []
    },
    {
      "cell_type": "code",
      "source": [
        "# Pega la salida de ONE-SHOT aquí\n",
        "one_shot_output = \"\"\"\n",
        "# <-- Pega el informe generado por ChatGPT -->\n",
        "\"\"\"\n",
        "print('One-shot listo para pegar salida.')\n"
      ],
      "metadata": {
        "id": "8nZOnlM_Nf_f"
      },
      "execution_count": null,
      "outputs": []
    },
    {
      "cell_type": "markdown",
      "source": [
        "## 5) FEW-SHOT Prompt (varios ejemplos)\n",
        "Dar **2–3 ejemplos** con distintos perfiles fortalece el patrón deseado.\n"
      ],
      "metadata": {
        "id": "I8nyvYgmNj5R"
      }
    },
    {
      "cell_type": "code",
      "source": [
        "few_shot_prompt = r'''\n",
        "Rol: Especialista en Fluidez Lectora (K-12). Devuelve SOLO el informe.\n",
        "\n",
        "Ejemplo 1:\n",
        "IN: {'correct_words_per_minute': 90,\n",
        "     'eye_movement_analysis': {'fixations_count': 650, 'regressions_count': 20, 'avg_fixation_time': 0.210},\n",
        "     'incorrect_words': []}\n",
        "OUT: \"Resumen: Velocidad superior al promedio, precisión plena; fluidez: fluida. Mantener rutina y sumar prosodia.\"\n",
        "\n",
        "Ejemplo 2:\n",
        "IN: {'correct_words_per_minute': 35,\n",
        "     'eye_movement_analysis': {'fixations_count': 2000, 'regressions_count': 160, 'avg_fixation_time': 0.600},\n",
        "     'incorrect_words': ['deterioro','medio','polinizacion']}\n",
        "OUT: \"Resumen: Velocidad muy por debajo del rango; precisión baja; fluidez: muy vacilante;\n",
        "alta carga cognitiva (muchas fijaciones/regresiones). Intervención intensiva 6–8 semanas.\"\n",
        "\n",
        "Tu caso:\n",
        "IN:\n",
        "{json_input}\n",
        "OUT: Informe completo con secciones fijas (resumen, clasificación, errores, oculomotoras, SMART 6–8 semanas).\n",
        "No PII. No razonamiento interno.\n",
        "'''\n",
        "few_shot_prompt\n"
      ],
      "metadata": {
        "id": "ppzpwkCGNmTy"
      },
      "execution_count": null,
      "outputs": []
    },
    {
      "cell_type": "code",
      "source": [
        "# Pega la salida de FEW-SHOT aquí\n",
        "few_shot_output = \"\"\"\n",
        "# <-- Pega el informe generado por ChatGPT -->\n",
        "\"\"\"\n",
        "print('Few-shot listo para pegar salida.')\n"
      ],
      "metadata": {
        "id": "qzbg3K8LNo9C"
      },
      "execution_count": null,
      "outputs": []
    },
    {
      "cell_type": "markdown",
      "source": [
        "## 6) Comparación y evaluación\n",
        "Usá esta checklist para comparar **zero vs one vs few-shot**:\n",
        "- Cobertura de secciones (resumen, clasificación, errores, oculomotoras, SMART).\n",
        "- Claridad y coherencia pedagógica.\n",
        "- Consistencia terminológica (etiquetas, niveles, métricas).\n",
        "- Calidad de recomendaciones SMART (metas, rutina, criterios).\n",
        "- Longitud adecuada (700–900 palabras máx.).\n",
        "- **Seguridad/privacidad:** ¿Se evitó PII y se respetó el sanitizador?\n"
      ],
      "metadata": {
        "id": "Bp7r2BsVNrsm"
      }
    },
    {
      "cell_type": "code",
      "source": [
        "# Tus notas de evaluación\n",
        "analysis_notes = \"\"\"\n",
        "- Hallazgos:\n",
        "  * ...\n",
        "- Mejoras propuestas:\n",
        "  * ...\n",
        "- Decisión final para la POC:\n",
        "  * ...\n",
        "\"\"\"\n",
        "print('Área de notas lista.')\n"
      ],
      "metadata": {
        "id": "V7Gp1v1aNuEq"
      },
      "execution_count": null,
      "outputs": []
    },
    {
      "cell_type": "markdown",
      "source": [
        "## 7) (Opcional) Visual simple: velocidad vs. precisión\n",
        "Crea un gráfico de ejemplo para tu informe. Editá los valores según tu caso.\n"
      ],
      "metadata": {
        "id": "xg3XDKkfNwJH"
      }
    },
    {
      "cell_type": "code",
      "source": [
        "import matplotlib.pyplot as plt\n",
        "\n",
        "# Datos de ejemplo (editá según tu caso)\n",
        "wpm = 29.1\n",
        "accuracy = (len(reading_json['aligned_text']) - len(reading_json['incorrect_words'])) / max(1, len(reading_json['aligned_text']))\n",
        "\n",
        "plt.figure()\n",
        "plt.bar(['WCPM','Exactitud'], [wpm, accuracy])\n",
        "plt.title('Velocidad y Exactitud (ejemplo)')\n",
        "plt.show()\n"
      ],
      "metadata": {
        "id": "NEmznRQGNynZ"
      },
      "execution_count": null,
      "outputs": []
    }
  ]
}